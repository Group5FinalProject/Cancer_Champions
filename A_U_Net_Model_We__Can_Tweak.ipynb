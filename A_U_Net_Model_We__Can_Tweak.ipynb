{
  "cells": [
    {
      "cell_type": "code",
      "execution_count": null,
      "metadata": {
        "id": "01RLRBZd7iST"
      },
      "outputs": [],
      "source": [
        "Prepare paths of input images and target segmentation masks"
      ]
    },
    {
      "cell_type": "code",
      "execution_count": null,
      "metadata": {
        "id": "hB3iP9lk7iSU"
      },
      "outputs": [],
      "source": [
        "import os\n",
        "from IPython.display import Image, display\n",
        "from keras.utils import load_img\n",
        "from PIL import ImageOps\n",
        "import keras\n",
        "import numpy as np\n",
        "from tensorflow import data as tf_data\n",
        "from tensorflow import image as tf_image\n",
        "from tensorflow import io as tf_io\n",
        "import random\n"
      ]
    },
    {
      "cell_type": "code",
      "execution_count": null,
      "metadata": {
        "id": "GqdelGRz7iSU"
      },
      "outputs": [],
      "source": [
        "input_dir = \"images/\"\n",
        "target_dir = \"annotations/trimaps/\"\n",
        "img_size = (160, 160)\n",
        "num_classes = 3\n",
        "batch_size = 32\n"
      ]
    },
    {
      "cell_type": "code",
      "execution_count": null,
      "metadata": {
        "id": "x8ijhr5o7iSV"
      },
      "outputs": [],
      "source": [
        "input_img_paths = sorted(\n",
        "    [\n",
        "        os.path.join(input_dir, fname)\n",
        "        for fname in os.listdir(input_dir)\n",
        "        if fname.endswith(\".jpg\")\n",
        "    ]\n",
        ")\n"
      ]
    },
    {
      "cell_type": "code",
      "execution_count": null,
      "metadata": {
        "id": "_mHgJAcU7iSV"
      },
      "outputs": [],
      "source": [
        "target_img_paths = sorted(\n",
        "    [\n",
        "        os.path.join(target_dir, fname)\n",
        "        for fname in os.listdir(target_dir)\n",
        "        if fname.endswith(\".png\") and not fname.startswith(\".\")\n",
        "    ]\n",
        ")\n"
      ]
    },
    {
      "cell_type": "code",
      "execution_count": null,
      "metadata": {
        "id": "wf3bmGFb7iSV"
      },
      "outputs": [],
      "source": [
        "print(\"Number of samples:\", len(input_img_paths))"
      ]
    },
    {
      "cell_type": "code",
      "execution_count": null,
      "metadata": {
        "id": "Wc0ClZlr7iSV"
      },
      "outputs": [],
      "source": [
        "for input_path, target_path in zip(input_img_paths[:10], target_img_paths[:10]):\n",
        "    print(input_path, \"|\", target_path)\n"
      ]
    },
    {
      "cell_type": "markdown",
      "metadata": {
        "id": "B-a92-W47iSV"
      },
      "source": [
        "What does one input image and corresponding segmentation mask look like?"
      ]
    },
    {
      "cell_type": "code",
      "execution_count": null,
      "metadata": {
        "id": "fOKFqE_d7iSW"
      },
      "outputs": [],
      "source": [
        "# Display input image #7\n",
        "display(Image(filename=input_img_paths[9]))\n"
      ]
    },
    {
      "cell_type": "code",
      "execution_count": null,
      "metadata": {
        "id": "Ij53nH4o7iSW"
      },
      "outputs": [],
      "source": [
        "# Display auto-contrast version of corresponding target (per-pixel categories)\n",
        "img = ImageOps.autocontrast(load_img(target_img_paths[9]))\n",
        "display(img)\n"
      ]
    },
    {
      "cell_type": "markdown",
      "metadata": {
        "id": "tJh1McI07iSW"
      },
      "source": [
        "Prepare dataset to load & vectorize batches of data"
      ]
    },
    {
      "cell_type": "code",
      "execution_count": null,
      "metadata": {
        "id": "flZAjqWz7iSX"
      },
      "outputs": [],
      "source": [
        "def get_dataset(\n",
        "    batch_size,\n",
        "    img_size,\n",
        "    input_img_paths,\n",
        "    target_img_paths,\n",
        "    max_dataset_len=None,\n",
        "):\n",
        "    \"\"\"Returns a TF Dataset.\"\"\"\n"
      ]
    },
    {
      "cell_type": "code",
      "execution_count": null,
      "metadata": {
        "id": "sgotpRpe7iSX"
      },
      "outputs": [],
      "source": [
        "def load_img_masks(input_img_path, target_img_path):\n",
        "        input_img = tf_io.read_file(input_img_path)\n",
        "        input_img = tf_io.decode_png(input_img, channels=3)\n",
        "        input_img = tf_image.resize(input_img, img_size)\n",
        "        input_img = tf_image.convert_image_dtype(input_img, \"float32\")\n"
      ]
    },
    {
      "cell_type": "code",
      "execution_count": null,
      "metadata": {
        "id": "zEOl_agd7iSX"
      },
      "outputs": [],
      "source": [
        "        target_img = tf_io.read_file(target_img_path)\n",
        "        target_img = tf_io.decode_png(target_img, channels=1)\n",
        "        target_img = tf_image.resize(target_img, img_size, method=\"nearest\")\n",
        "        target_img = tf_image.convert_image_dtype(target_img, \"uint8\")\n"
      ]
    },
    {
      "cell_type": "code",
      "execution_count": null,
      "metadata": {
        "id": "DhWMkp9w7iSX"
      },
      "outputs": [],
      "source": [
        "# Ground truth labels are 1, 2, 3. Subtract one to make them 0, 1, 2:\n",
        "        target_img -= 1\n",
        "        return input_img, target_img\n"
      ]
    },
    {
      "cell_type": "code",
      "execution_count": null,
      "metadata": {
        "id": "G6XiSZSN7iSX"
      },
      "outputs": [],
      "source": [
        "    # For faster debugging, limit the size of data\n",
        "    if max_dataset_len:\n",
        "        input_img_paths = input_img_paths[:max_dataset_len]\n",
        "        target_img_paths = target_img_paths[:max_dataset_len]\n",
        "    dataset = tf_data.Dataset.from_tensor_slices((input_img_paths, target_img_paths))\n",
        "    dataset = dataset.map(load_img_masks, num_parallel_calls=tf_data.AUTOTUNE)\n",
        "    return dataset.batch(batch_size)\n"
      ]
    },
    {
      "cell_type": "markdown",
      "metadata": {
        "id": "ec49Ji237iSY"
      },
      "source": [
        "Prepare U-Net Xception-style model"
      ]
    },
    {
      "cell_type": "code",
      "execution_count": null,
      "metadata": {
        "id": "5zhdOMWr7iSY"
      },
      "outputs": [],
      "source": [
        "def get_model(img_size, num_classes):\n",
        "    inputs = keras.Input(shape=img_size + (3,))\n"
      ]
    },
    {
      "cell_type": "markdown",
      "metadata": {
        "id": "aQ3wGviL7iSY"
      },
      "source": [
        "First half of the network: downsampling inputs"
      ]
    },
    {
      "cell_type": "code",
      "execution_count": null,
      "metadata": {
        "id": "-cNff0zn7iSY"
      },
      "outputs": [],
      "source": [
        "# Entry block\n",
        "    x = layers.Conv2D(32, 3, strides=2, padding=\"same\")(inputs)\n",
        "    x = layers.BatchNormalization()(x)\n",
        "    x = layers.Activation(\"relu\")(x)\n"
      ]
    },
    {
      "cell_type": "code",
      "execution_count": null,
      "metadata": {
        "id": "ElzVk_lW7iSY"
      },
      "outputs": [],
      "source": [
        "# Set aside residual\n",
        "    previous_block_activation = x\n"
      ]
    },
    {
      "cell_type": "code",
      "execution_count": null,
      "metadata": {
        "id": "riN0opXL7iSY"
      },
      "outputs": [],
      "source": [
        "    # Blocks 1, 2, 3 are identical apart from the feature depth.\n",
        "    for filters in [64, 128, 256]:\n",
        "        x = layers.Activation(\"relu\")(x)\n",
        "        x = layers.SeparableConv2D(filters, 3, padding=\"same\")(x)\n",
        "        x = layers.BatchNormalization()(x)\n",
        "        x = layers.Activation(\"relu\")(x)\n",
        "        x = layers.SeparableConv2D(filters, 3, padding=\"same\")(x)\n",
        "        x = layers.BatchNormalization()(x)\n",
        "        x = layers.MaxPooling2D(3, strides=2, padding=\"same\")(x)"
      ]
    },
    {
      "cell_type": "code",
      "execution_count": null,
      "metadata": {
        "id": "DA0DE4z97iSY"
      },
      "outputs": [],
      "source": [
        "        # Project residual\n",
        "        residual = layers.Conv2D(filters, 1, strides=2, padding=\"same\")(\n",
        "            previous_block_activation\n",
        "        )\n",
        "        x = layers.add([x, residual])  # Add back residual\n",
        "        previous_block_activation = x  # Set aside next residual\n"
      ]
    },
    {
      "cell_type": "markdown",
      "metadata": {
        "id": "T_vG5Jek7iSY"
      },
      "source": [
        "Second half of the network: upsampling inputs"
      ]
    },
    {
      "cell_type": "code",
      "execution_count": null,
      "metadata": {
        "id": "2n2Ojniw7iSZ"
      },
      "outputs": [],
      "source": [
        "for filters in [256, 128, 64, 32]:\n",
        "        x = layers.Activation(\"relu\")(x)\n",
        "        x = layers.Conv2DTranspose(filters, 3, padding=\"same\")(x)\n",
        "        x = layers.BatchNormalization()(x)\n",
        "\n",
        "        x = layers.Activation(\"relu\")(x)\n",
        "        x = layers.Conv2DTranspose(filters, 3, padding=\"same\")(x)\n",
        "        x = layers.BatchNormalization()(x)\n",
        "\n",
        "        x = layers.UpSampling2D(2)(x)\n"
      ]
    },
    {
      "cell_type": "code",
      "execution_count": null,
      "metadata": {
        "id": "_DCmuAHU7iSZ"
      },
      "outputs": [],
      "source": [
        "        # Project residual\n",
        "        residual = layers.UpSampling2D(2)(previous_block_activation)\n",
        "        residual = layers.Conv2D(filters, 1, padding=\"same\")(residual)\n",
        "        x = layers.add([x, residual])  # Add back residual\n",
        "        previous_block_activation = x  # Set aside next residual\n"
      ]
    },
    {
      "cell_type": "code",
      "execution_count": null,
      "metadata": {
        "id": "KrmRnUcj7iSZ"
      },
      "outputs": [],
      "source": [
        "# Add a per-pixel classification layer\n",
        "    outputs = layers.Conv2D(num_classes, 3, activation=\"softmax\", padding=\"same\")(x)\n"
      ]
    },
    {
      "cell_type": "code",
      "execution_count": null,
      "metadata": {
        "id": "zuhpu3jC7iSZ"
      },
      "outputs": [],
      "source": [
        "    # Define the model\n",
        "    model = keras.Model(inputs, outputs)\n",
        "    return model\n"
      ]
    },
    {
      "cell_type": "code",
      "execution_count": null,
      "metadata": {
        "id": "8M6JnfrG7iSZ"
      },
      "outputs": [],
      "source": [
        "# Build model\n",
        "model = get_model(img_size, num_classes)\n",
        "model.summary()\n"
      ]
    },
    {
      "cell_type": "code",
      "execution_count": null,
      "metadata": {
        "id": "-236XLW67iSZ"
      },
      "outputs": [],
      "source": [
        "Set aside a validation split"
      ]
    },
    {
      "cell_type": "code",
      "execution_count": null,
      "metadata": {
        "id": "jyLTeNIR7iSZ"
      },
      "outputs": [],
      "source": [
        "# Split our img paths into a training and a validation set\n",
        "val_samples = 100      # resize from 1000\n",
        "random.Random(1337).shuffle(input_img_paths)\n",
        "random.Random(1337).shuffle(target_img_paths)\n",
        "train_input_img_paths = input_img_paths[:-val_samples]\n",
        "train_target_img_paths = target_img_paths[:-val_samples]\n",
        "val_input_img_paths = input_img_paths[-val_samples:]\n",
        "val_target_img_paths = target_img_paths[-val_samples:]\n"
      ]
    },
    {
      "cell_type": "code",
      "execution_count": null,
      "metadata": {
        "id": "a6CYZuxh7iSZ"
      },
      "outputs": [],
      "source": [
        "# Instantiate dataset for each split\n",
        "# Limit input files in `max_dataset_len` for faster epoch training time.\n",
        "# Remove the `max_dataset_len` arg when running with full dataset.\n",
        "train_dataset = get_dataset(\n",
        "    batch_size,\n",
        "    img_size,\n",
        "    train_input_img_paths,\n",
        "    train_target_img_paths,\n",
        "    max_dataset_len=1000,\n",
        ")\n",
        "valid_dataset = get_dataset(\n",
        "    batch_size, img_size, val_input_img_paths, val_target_img_paths\n",
        ")\n"
      ]
    },
    {
      "cell_type": "markdown",
      "metadata": {
        "id": "6THOy2al7iSa"
      },
      "source": [
        "Train the model"
      ]
    },
    {
      "cell_type": "code",
      "execution_count": null,
      "metadata": {
        "id": "XfAjkCGV7iSa"
      },
      "outputs": [],
      "source": [
        "# Configure the model for training.\n",
        "# We use the \"sparse\" version of categorical_crossentropy\n",
        "# because our target data is integers.\n",
        "model.compile(\n",
        "    optimizer=keras.optimizers.Adam(1e-4), loss=\"sparse_categorical_crossentropy\"\n",
        ")\n",
        "\n",
        "callbacks = [\n",
        "    keras.callbacks.ModelCheckpoint(\"oxford_segmentation.keras\", save_best_only=True)\n",
        "]\n"
      ]
    },
    {
      "cell_type": "code",
      "execution_count": null,
      "metadata": {
        "id": "IFSkIQeS7iSa"
      },
      "outputs": [],
      "source": [
        "# Train the model, doing validation at the end of each epoch.\n",
        "epochs = 50\n",
        "model.fit(\n",
        "    train_dataset,\n",
        "    epochs=epochs,\n",
        "    validation_data=valid_dataset,\n",
        "    callbacks=callbacks,\n",
        "    verbose=2,\n",
        ")\n"
      ]
    },
    {
      "cell_type": "markdown",
      "metadata": {
        "id": "5j2HmOyz7iSa"
      },
      "source": [
        "Visualize predictions"
      ]
    },
    {
      "cell_type": "code",
      "execution_count": null,
      "metadata": {
        "id": "b25_qHCw7iSa"
      },
      "outputs": [],
      "source": [
        "# Generate predictions for all images in the validation set\n",
        "\n",
        "val_dataset = get_dataset(\n",
        "    batch_size, img_size, val_input_img_paths, val_target_img_paths\n",
        ")\n",
        "val_preds = model.predict(val_dataset)\n",
        "\n",
        "\n",
        "def display_mask(i):\n"
      ]
    },
    {
      "cell_type": "code",
      "execution_count": null,
      "metadata": {
        "id": "ocklldJr7iSa"
      },
      "outputs": [],
      "source": [
        "   \"\"\"Quick utility to display a model's prediction.\"\"\"\n",
        "    mask = np.argmax(val_preds[i], axis=-1)\n",
        "    mask = np.expand_dims(mask, axis=-1)\n",
        "    img = ImageOps.autocontrast(keras.utils.array_to_img(mask))\n",
        "    display(img)\n"
      ]
    },
    {
      "cell_type": "code",
      "execution_count": null,
      "metadata": {
        "id": "ycDflVZV7iSa"
      },
      "outputs": [],
      "source": [
        "# Display results for validation image #10\n",
        "i = 10\n"
      ]
    },
    {
      "cell_type": "code",
      "execution_count": null,
      "metadata": {
        "id": "GEC-CnPp7iSb"
      },
      "outputs": [],
      "source": [
        "# Display input image\n",
        "display(Image(filename=val_input_img_paths[i]))\n"
      ]
    },
    {
      "cell_type": "code",
      "execution_count": null,
      "metadata": {
        "id": "RgT8WZXA7iSb"
      },
      "outputs": [],
      "source": [
        "# Display ground-truth target mask\n",
        "img = ImageOps.autocontrast(load_img(val_target_img_paths[i]))\n",
        "display(img)\n"
      ]
    },
    {
      "cell_type": "code",
      "execution_count": null,
      "metadata": {
        "id": "tXWXwCRP7iSb"
      },
      "outputs": [],
      "source": [
        "# Display mask predicted by our model\n",
        "display_mask(i)  # Note that the model only sees inputs at 150x150.\n"
      ]
    },
    {
      "cell_type": "code",
      "execution_count": null,
      "metadata": {
        "id": "NZ2OBj8GB-o2"
      },
      "outputs": [],
      "source": [
        "# Need to transfer mask result to 0(lungaca), 1(lungn), or 2(lungscc)\n"
      ]
    },
    {
      "cell_type": "markdown",
      "metadata": {
        "id": "owNLRm4mCbXp"
      },
      "source": [
        "# Patient Interface with Gradio - Image\n",
        "\n"
      ]
    },
    {
      "cell_type": "code",
      "execution_count": null,
      "metadata": {
        "id": "JMEkjZDgxcP2"
      },
      "outputs": [],
      "source": []
    },
    {
      "cell_type": "code",
      "execution_count": null,
      "metadata": {
        "id": "QbChJ_9WBa3P"
      },
      "outputs": [],
      "source": [
        "# Create a Gradio interface\n",
        "pip install gradio\n",
        "# Import Gradio\n",
        "import gradio as gr"
      ]
    },
    {
      "cell_type": "code",
      "execution_count": null,
      "metadata": {
        "id": "lEExUFVX-P6U"
      },
      "outputs": [],
      "source": [
        "# Create an instance of the Gradio Interface application function with the appropriate parameters.\n",
        "input_img = gr.inputs.Image(shape=(150, 150))\n",
        "target_img = gr.outputs.Image()\n",
        "app = gr.Interface(fn=display_mask(), inputs=input_img, outputs=target_img, title='U-Net Image Segmentation')\n",
        "# Launch the app\n",
        "app.launch()"
      ]
    }
  ],
  "metadata": {
    "colab": {
      "provenance": []
    },
    "kernelspec": {
      "display_name": "base",
      "language": "python",
      "name": "python3"
    },
    "language_info": {
      "name": "python",
      "version": "3.10.14"
    }
  },
  "nbformat": 4,
  "nbformat_minor": 0
}
