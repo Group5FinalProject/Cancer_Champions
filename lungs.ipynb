{
 "cells": [
  {
   "cell_type": "code",
   "execution_count": 4,
   "id": "f54de806-2572-4066-97bd-c5370ded80c7",
   "metadata": {},
   "outputs": [],
   "source": [
    "# Dependencies\n",
    "from PIL import Image\n",
    "import os\n",
    "import numpy as np\n",
    "import pickle\n"
   ]
  },
  {
   "cell_type": "code",
   "execution_count": 2,
   "id": "e76c6c11-3ab9-4115-8885-8a7eeb0b7eb3",
   "metadata": {},
   "outputs": [
    {
     "name": "stdout",
     "output_type": "stream",
     "text": [
      "Loaded 5000 images.\n"
     ]
    }
   ],
   "source": [
    "# Load Images:\n",
    "# Path to the directory containing the images\n",
    "image_directory = 'lung_image_sets/lung_aca'\n",
    "\n",
    "# List to store the loaded images\n",
    "images = []\n",
    "\n",
    "# Loop through all files in the directory\n",
    "for filename in os.listdir(image_directory):\n",
    "    if filename.endswith(\".jpeg\"):\n",
    "        # Construct the full path to the image file\n",
    "        image_path = os.path.join(image_directory, filename)\n",
    "        \n",
    "        # Open the image and append it to the list\n",
    "        img = Image.open(image_path)\n",
    "        images.append(img)\n",
    "\n",
    "print(f\"Loaded {len(images)} images.\")"
   ]
  },
  {
   "cell_type": "code",
   "execution_count": 5,
   "id": "6e2fce51-e633-4765-9056-b88247d5f4e3",
   "metadata": {},
   "outputs": [
    {
     "name": "stdout",
     "output_type": "stream",
     "text": [
      "Preprocessing complete and data pickled.\n"
     ]
    }
   ],
   "source": [
    "# Size\n",
    "target_size = (256, 256)\n",
    "\n",
    "# List to store the preprocessed images\n",
    "preprocessed_images = []\n",
    "\n",
    "# List to store the preprocessed images\n",
    "preprocessed_images = []\n",
    "\n",
    "# Loop through the loaded images and preprocess them\n",
    "for img in images:\n",
    "    # Resize the image\n",
    "    img_resized = img.resize(target_size)\n",
    "    \n",
    "    # Convert the image to grayscale (if we want to, unsure of the medical implications here)\n",
    "    # img_resized = img_resized.convert(\"L\")\n",
    "    \n",
    "    # Convert the image to a NumPy array and normalize pixel values\n",
    "    img_array = np.array(img_resized) / 255.0\n",
    "    \n",
    "    # Append the preprocessed image to the list\n",
    "    preprocessed_images.append(img_array)\n",
    "\n",
    "# Convert the list to a NumPy array for easier handling\n",
    "preprocessed_images = np.array(preprocessed_images)\n",
    "\n",
    "# Pickle the preprocessed images\n",
    "with open(\"preprocessed_images.pkl\", \"wb\") as f:\n",
    "    pickle.dump(preprocessed_images, f)\n",
    "\n",
    "print(\"Preprocessing complete and data pickled.\")"
   ]
  },
  {
   "cell_type": "markdown",
   "id": "aec94e56-f213-4405-8b10-34698b50a2d2",
   "metadata": {},
   "source": []
  }
 ],
 "metadata": {
  "kernelspec": {
   "display_name": "Python 3 (ipykernel)",
   "language": "python",
   "name": "python3"
  },
  "language_info": {
   "codemirror_mode": {
    "name": "ipython",
    "version": 3
   },
   "file_extension": ".py",
   "mimetype": "text/x-python",
   "name": "python",
   "nbconvert_exporter": "python",
   "pygments_lexer": "ipython3",
   "version": "3.11.7"
  }
 },
 "nbformat": 4,
 "nbformat_minor": 5
}
